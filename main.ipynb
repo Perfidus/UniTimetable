{
 "cells": [
  {
   "cell_type": "code",
   "execution_count": 1,
   "id": "da7e5a05-2683-4754-9967-499e53f0e401",
   "metadata": {},
   "outputs": [],
   "source": [
    "import gspread\n",
    "import re\n",
    "from oauth2client.service_account import ServiceAccountCredentials\n",
    "import pickle"
   ]
  },
  {
   "cell_type": "code",
   "execution_count": 2,
   "id": "8a375696",
   "metadata": {},
   "outputs": [],
   "source": [
    "scope = [\"https://spreadsheets.google.com/feeds\",\n",
    "         'https://www.googleapis.com/auth/spreadsheets',\n",
    "         \"https://www.googleapis.com/auth/drive.file\",\n",
    "         \"https://www.googleapis.com/auth/drive\"]\n",
    "creds = ServiceAccountCredentials.from_json_keyfile_name(\"credentials.json\", scope)\n",
    "client = gspread.authorize(creds)\n",
    "sheet = client.open_by_url('https://docs.google.com/spreadsheets/d/1pNHiTmrgEBjON2kh_KEzIsDIqPTKIkaQ6H0lr29lhYM')  # Open by URL\n",
    "worksheetName = '3 курс Менеджмент'\n",
    "worksheet = sheet.worksheet(worksheetName)  # Selecting a worksheet by its name\n",
    "regex_numbers = re.compile('([0-9][0-9]-апр.|[0-9]-апр.)') # Creating a rule for finder\n",
    "dates = worksheet.findall(regex_numbers) # Listing all dates in the worksheet using our rule\n",
    "regex_time = re.compile('[0-9][0-9].[0-9][0-9]-[0-9][0-9].[0-9][0-9]') # Creating a second rule for finder\n",
    "lessonTimeList = worksheet.findall(regex_time) # Listing all lesson times in the worksheet using our rule\n",
    "startDate = dates[0].value[:-5] # First day\n",
    "endDate = dates[-1].value[:-5] # Last day\n",
    "\n",
    "firstDay = dates[0].row # Getting a first day\n",
    "secondDay = dates[1].row # Getting a second day\n",
    "thirdDay = dates[2].row # Getting a third day\n",
    "fourthDay = dates[3].row # Getting a fourth day\n",
    "fifthDay = dates[4].row # Getting a fifth day\n",
    "sixthDay = dates[5].row # Getting a sixth day"
   ]
  },
  {
   "cell_type": "markdown",
   "id": "d8ad06d4",
   "metadata": {},
   "source": [
    "## First day"
   ]
  },
  {
   "cell_type": "code",
   "execution_count": null,
   "id": "ccb05d1a",
   "metadata": {},
   "outputs": [],
   "source": [
    "row = firstDay\n",
    "firstDay_list = [] # List of info about lessons on Monday\n",
    "firstDay_lessons = [] # Lessons on first day\n",
    "firstDay_lessons.clear()\n",
    "while row < secondDay - 1:\n",
    "    row_value = worksheet.row_values(row)    \n",
    "    if row_value[3] == \"МБ3\":\n",
    "        firstDay_lessons.append(row_value)\n",
    "        i = 0\n",
    "        t = 0\n",
    "        while i < len(firstDay_lessons):\n",
    "            del firstDay_lessons[i][0:2]\n",
    "            filtered = filter(lambda nonempty: nonempty != '' and nonempty != ' ' and nonempty != 'МБ3' and nonempty != '1', firstDay_lessons[t])\n",
    "            t = t+1\n",
    "            i = i+1\n",
    "        row = row + 1\n",
    "        firstDay_list.append(list(filtered))\n",
    "    else:\n",
    "        row = row + 1\n",
    "if len(firstDay_list) > 0:\n",
    "    firstDay_list.insert(0, dates[0].value)\n",
    "else:\n",
    "    firstDay_list.insert(0, \"None\")"
   ]
  },
  {
   "cell_type": "code",
   "execution_count": null,
   "id": "1e89df92",
   "metadata": {
    "scrolled": true
   },
   "outputs": [],
   "source": [
    "print(firstDay_list)"
   ]
  },
  {
   "cell_type": "markdown",
   "id": "dc2efedb",
   "metadata": {},
   "source": [
    "## Second day"
   ]
  },
  {
   "cell_type": "code",
   "execution_count": null,
   "id": "b2ff858a",
   "metadata": {},
   "outputs": [],
   "source": [
    "row = secondDay\n",
    "secondDay_list = [] # List of info about lessons on second day\n",
    "secondDay_lessons = [] # Lessons on second day\n",
    "secondDay_lessons.clear()\n",
    "while row < thirdDay - 1:\n",
    "    row_value = worksheet.row_values(row)    \n",
    "    if row_value[3] == \"МБ3\" or row_value[3] == \"1\":\n",
    "        secondDay_lessons.append(row_value)\n",
    "        i = 0\n",
    "        t = 0\n",
    "        while i < len(secondDay_lessons):\n",
    "            del secondDay_lessons[i][0:2]\n",
    "            filtered = filter(lambda nonempty: nonempty != '' and nonempty != ' ' and nonempty != 'МБ3' and nonempty != '1', secondDay_lessons[t])\n",
    "            t = t+1\n",
    "            i = i+1\n",
    "        row = row + 1\n",
    "        secondDay_list.append(list(filtered))\n",
    "    else:\n",
    "        row = row + 1\n",
    "if len(secondDay_list) > 0:\n",
    "    secondDay_list.insert(0, dates[1].value)\n",
    "else:\n",
    "    secondDay_list.insert(0, \"None\")"
   ]
  },
  {
   "cell_type": "code",
   "execution_count": null,
   "id": "14c2f8e0",
   "metadata": {},
   "outputs": [],
   "source": [
    "print(secondDay_list)"
   ]
  },
  {
   "cell_type": "markdown",
   "id": "0d8fbd67",
   "metadata": {},
   "source": [
    "## Third day"
   ]
  },
  {
   "cell_type": "code",
   "execution_count": null,
   "id": "1b4b3894",
   "metadata": {},
   "outputs": [],
   "source": [
    "row = thirdDay\n",
    "thirdDay_list = [] # List of info about lessons on third day\n",
    "thirdDay_lessons = [] # Lessons on third day\n",
    "thirdDay_lessons.clear()\n",
    "while row < fourthDay - 1:\n",
    "    row_value = worksheet.row_values(row)    \n",
    "    if row_value[3] == \"МБ3\" or row_value[3] == \"1\" or row_value[4] == \"Физическая культура и спорт \":\n",
    "        thirdDay_lessons.append(row_value)\n",
    "        i = 0\n",
    "        t = 0\n",
    "        while i < len(thirdDay_lessons):\n",
    "            del thirdDay_lessons[i][0:2]\n",
    "            filtered = filter(lambda nonempty: nonempty != '' and nonempty != ' ' and nonempty != 'МБ3' and nonempty != '1', thirdDay_lessons[t])\n",
    "            t = t+1\n",
    "            i = i+1\n",
    "        row = row + 1\n",
    "        thirdDay_list.append(list(filtered))\n",
    "    elif row_value[5] == \"Луканина Екатерина Викторовна\":\n",
    "        spanish_time = row_value[2]\n",
    "        row = row + 1\n",
    "    elif row_value[5] == \"Воинова Ольга Зиновьевна\":\n",
    "        thirdDay_lessons.append(row_value)\n",
    "        i = 0\n",
    "        t = 0\n",
    "        while i < len(thirdDay_lessons):\n",
    "            del thirdDay_lessons[i][0:2]\n",
    "            filtered = filter(lambda nonempty: nonempty != '' and nonempty != ' ', thirdDay_lessons[t])\n",
    "            thirdDay_lessons[t].insert(0, spanish_time)\n",
    "            t = t+1\n",
    "            i = i+1\n",
    "        row = row + 1\n",
    "        thirdDay_list.append(list(filtered))\n",
    "    else:\n",
    "        row = row + 1\n",
    "if len(thirdDay_list) > 0:\n",
    "    thirdDay_list.insert(0, dates[2].value)\n",
    "else:\n",
    "    thirdDay_list.insert(0, \"None\")"
   ]
  },
  {
   "cell_type": "code",
   "execution_count": null,
   "id": "584ab6d7",
   "metadata": {
    "scrolled": true
   },
   "outputs": [],
   "source": [
    "print(thirdDay_list)"
   ]
  },
  {
   "cell_type": "markdown",
   "id": "b5a3fb3e",
   "metadata": {},
   "source": [
    "## Fourth day"
   ]
  },
  {
   "cell_type": "code",
   "execution_count": null,
   "id": "ede318b4",
   "metadata": {},
   "outputs": [],
   "source": [
    "row = fourthDay\n",
    "fourthDay_list = [] # List of info about lessons on fourth day\n",
    "fourthDay_lessons = [] # Lessons on fourth day\n",
    "fourthDay_lessons.clear()\n",
    "while row < fifthDay - 1:\n",
    "    row_value = worksheet.row_values(row)    \n",
    "    if row_value[3] == \"МБ3\" or row_value[3] == \"1\":\n",
    "        fourthDay_lessons.append(row_value)\n",
    "        i = 0\n",
    "        t = 0\n",
    "        while i < len(fourthDay_lessons):\n",
    "            del fourthDay_lessons[i][0:2]\n",
    "            filtered = filter(lambda nonempty: nonempty != '' and nonempty != ' ' and nonempty != 'МБ3' and nonempty != '1', fourthDay_lessons[t])\n",
    "            t = t+1\n",
    "            i = i+1\n",
    "        row = row + 1\n",
    "        fourthDay_list.append(list(filtered))\n",
    "    else:\n",
    "        row = row + 1\n",
    "\n",
    "if len(fourthDay_list) > 0:\n",
    "    fourthDay_list.insert(0, dates[3].value)\n",
    "else:\n",
    "    fourthDay_list.insert(0, \"None\")"
   ]
  },
  {
   "cell_type": "code",
   "execution_count": null,
   "id": "17610feb",
   "metadata": {},
   "outputs": [],
   "source": [
    "print(fourthDay_list)"
   ]
  },
  {
   "cell_type": "markdown",
   "id": "72adb4d7",
   "metadata": {},
   "source": [
    "## Fifth day"
   ]
  },
  {
   "cell_type": "code",
   "execution_count": null,
   "id": "38c5c00e",
   "metadata": {
    "scrolled": false
   },
   "outputs": [],
   "source": [
    "row = fifthDay\n",
    "fifthDay_list = [] # List of info about lessons on fifth day\n",
    "fifthDay_lessons = [] # Lessons on fifth day\n",
    "fifthDay_lessons.clear()\n",
    "while row < sixthDay - 1:\n",
    "    row_value = worksheet.row_values(row)    \n",
    "    if row_value[3] == \"МБ3\" or row_value[3] == \"1\" or row_value[4] == \"Физическая культура и спорт \":\n",
    "        fifthDay_lessons.append(row_value)\n",
    "        i = 0\n",
    "        t = 0\n",
    "        while i < len(fifthDay_lessons):\n",
    "            del fifthDay_lessons[i][0:2]\n",
    "            filtered = filter(lambda nonempty: nonempty != '' and nonempty != ' ' and nonempty != 'МБ3' and nonempty != '1', fifthDay_lessons[t])\n",
    "            t = t+1\n",
    "            i = i+1\n",
    "        row = row + 1\n",
    "        fifthDay_list.append(list(filtered))\n",
    "    elif row_value[5] == \"Луканина Екатерина Викторовна\":\n",
    "        spanish_time = row_value[2]\n",
    "        row = row + 1\n",
    "    elif row_value[5] == \"Воинова Ольга Зиновьевна\":\n",
    "        fifthDay_lessons.append(row_value)\n",
    "        print(fifthDay_lessons)\n",
    "        i = 0\n",
    "        t = 0\n",
    "        while i < len(fifthDay_lessons):\n",
    "            del fifthDay_lessons[i][0:2]\n",
    "            filtered = filter(lambda nonempty: nonempty != '' and nonempty != ' ', fifthDay_lessons[t])\n",
    "            fifthDay_lessons[t].insert(0, spanish_time)\n",
    "            t = t+1\n",
    "            i = i+1\n",
    "        row = row + 1\n",
    "        fifthDay_list.append(list(filtered))\n",
    "    else:\n",
    "        row = row + 1\n",
    "if len(fifthDay_list) > 0:\n",
    "    fifthDay_list.insert(0, dates[4].value)\n",
    "else:\n",
    "    fifthDay_list.insert(0, \"None\")"
   ]
  },
  {
   "cell_type": "code",
   "execution_count": null,
   "id": "a87acc14",
   "metadata": {},
   "outputs": [],
   "source": [
    "print(fifthDay_list)"
   ]
  },
  {
   "cell_type": "markdown",
   "id": "da626bc9",
   "metadata": {},
   "source": [
    "## Sixth day"
   ]
  },
  {
   "cell_type": "code",
   "execution_count": null,
   "id": "b8bf4855",
   "metadata": {
    "scrolled": true
   },
   "outputs": [],
   "source": [
    "row = sixthDay\n",
    "sixthDay_list = [] # List of info about lessons on sixth day\n",
    "sixthDay_lessons = [] # Lessons on sixth day\n",
    "sixthDay_lessons.clear()\n",
    "while row <= lessonTimeList[-1].row:\n",
    "    row_value = worksheet.row_values(row)    \n",
    "    if row_value[3] == \"МБ3\" or row_value[3] == \"1\" or row_value[4] == \"Физическая культура и спорт \":\n",
    "        sixthDay_lessons.append(row_value)\n",
    "        i = 0\n",
    "        t = 0\n",
    "        while i < len(sixthDay_lessons):\n",
    "            del sixthDay_lessons[i][0:2]\n",
    "            filtered = filter(lambda nonempty: nonempty != '' and nonempty != ' ' and nonempty != 'МБ3' and nonempty != '1', sixthDay_lessons[t])\n",
    "            t = t+1\n",
    "            i = i+1\n",
    "        row = row + 1\n",
    "        sixthDay_list.append(list(filtered))\n",
    "    else:\n",
    "        row = row + 1\n",
    "if len(sixthDay_list) > 0:\n",
    "    sixthDay_list.insert(0, dates[5].value)\n",
    "else:\n",
    "    sixthDay_list.insert(0, \"None\")"
   ]
  },
  {
   "cell_type": "code",
   "execution_count": null,
   "id": "fc7e759c",
   "metadata": {},
   "outputs": [],
   "source": [
    "print(sixthDay_list)"
   ]
  },
  {
   "cell_type": "markdown",
   "id": "71e65ead",
   "metadata": {},
   "source": [
    "# Pickle"
   ]
  },
  {
   "cell_type": "code",
   "execution_count": null,
   "id": "57d27e33",
   "metadata": {},
   "outputs": [],
   "source": [
    "data = [firstDay_list, secondDay_list, thirdDay_list, fourthDay_list, fifthDay_list, sixthDay_list]\n",
    "\n",
    "with open('data.pkl', 'wb') as f:\n",
    "        pickle.dump(data, f)"
   ]
  }
 ],
 "metadata": {
  "kernelspec": {
   "display_name": "Python 3 (ipykernel)",
   "language": "python",
   "name": "python3"
  },
  "language_info": {
   "codemirror_mode": {
    "name": "ipython",
    "version": 3
   },
   "file_extension": ".py",
   "mimetype": "text/x-python",
   "name": "python",
   "nbconvert_exporter": "python",
   "pygments_lexer": "ipython3",
   "version": "3.9.7"
  }
 },
 "nbformat": 4,
 "nbformat_minor": 5
}
