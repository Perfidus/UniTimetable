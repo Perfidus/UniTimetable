{
 "cells": [
  {
   "cell_type": "code",
   "execution_count": 14,
   "id": "5ff1847d",
   "metadata": {},
   "outputs": [],
   "source": [
    "from apiclient.discovery import build\n",
    "from google_auth_oauthlib.flow import InstalledAppFlow\n",
    "import pickle\n",
    "import datetime\n",
    "import locale"
   ]
  },
  {
   "cell_type": "code",
   "execution_count": 15,
   "id": "cdf61dca",
   "metadata": {},
   "outputs": [],
   "source": [
    "\"\"\" Importing data \"\"\"\n",
    "filename = 'data.pkl'\n",
    "with open(filename, 'rb') as f:\n",
    "    imported_data = pickle.load(f)"
   ]
  },
  {
   "cell_type": "markdown",
   "id": "1bf854c6",
   "metadata": {},
   "source": [
    "# Setting up an authorization to API"
   ]
  },
  {
   "cell_type": "code",
   "execution_count": 16,
   "id": "5ce476e1",
   "metadata": {},
   "outputs": [
    {
     "name": "stdout",
     "output_type": "stream",
     "text": [
      "Please visit this URL to authorize this application: https://accounts.google.com/o/oauth2/auth?response_type=code&client_id=1012524373356-usa012rae1bdi6666o7rumeki96to4p7.apps.googleusercontent.com&redirect_uri=urn%3Aietf%3Awg%3Aoauth%3A2.0%3Aoob&scope=https%3A%2F%2Fwww.googleapis.com%2Fauth%2Fcalendar&state=FJIeRqQZEhWNVFVn87eo8Pu53fwwSq&prompt=consent&access_type=offline\n"
     ]
    },
    {
     "ename": "KeyboardInterrupt",
     "evalue": "Interrupted by user",
     "output_type": "error",
     "traceback": [
      "\u001b[0;31m---------------------------------------------------------------------------\u001b[0m",
      "\u001b[0;31mKeyboardInterrupt\u001b[0m                         Traceback (most recent call last)",
      "\u001b[0;32m/var/folders/ms/6v43njpx457b5xtz02twzkpc0000gn/T/ipykernel_62116/2825839051.py\u001b[0m in \u001b[0;36m<module>\u001b[0;34m\u001b[0m\n\u001b[1;32m      1\u001b[0m \u001b[0mscopes\u001b[0m \u001b[0;34m=\u001b[0m \u001b[0;34m[\u001b[0m\u001b[0;34m'https://www.googleapis.com/auth/calendar'\u001b[0m\u001b[0;34m]\u001b[0m\u001b[0;34m\u001b[0m\u001b[0;34m\u001b[0m\u001b[0m\n\u001b[1;32m      2\u001b[0m \u001b[0mflow\u001b[0m \u001b[0;34m=\u001b[0m \u001b[0mInstalledAppFlow\u001b[0m\u001b[0;34m.\u001b[0m\u001b[0mfrom_client_secrets_file\u001b[0m\u001b[0;34m(\u001b[0m\u001b[0;34m\"client_secret.json\"\u001b[0m\u001b[0;34m,\u001b[0m \u001b[0mscopes\u001b[0m\u001b[0;34m=\u001b[0m\u001b[0mscopes\u001b[0m\u001b[0;34m)\u001b[0m\u001b[0;34m\u001b[0m\u001b[0;34m\u001b[0m\u001b[0m\n\u001b[0;32m----> 3\u001b[0;31m \u001b[0mcredentials\u001b[0m \u001b[0;34m=\u001b[0m \u001b[0mflow\u001b[0m\u001b[0;34m.\u001b[0m\u001b[0mrun_console\u001b[0m\u001b[0;34m(\u001b[0m\u001b[0;34m)\u001b[0m\u001b[0;34m\u001b[0m\u001b[0;34m\u001b[0m\u001b[0m\n\u001b[0m",
      "\u001b[0;32m~/opt/anaconda3/lib/python3.9/site-packages/google_auth_oauthlib/flow.py\u001b[0m in \u001b[0;36mrun_console\u001b[0;34m(self, authorization_prompt_message, authorization_code_message, **kwargs)\u001b[0m\n\u001b[1;32m    435\u001b[0m         \u001b[0mprint\u001b[0m\u001b[0;34m(\u001b[0m\u001b[0mauthorization_prompt_message\u001b[0m\u001b[0;34m.\u001b[0m\u001b[0mformat\u001b[0m\u001b[0;34m(\u001b[0m\u001b[0murl\u001b[0m\u001b[0;34m=\u001b[0m\u001b[0mauth_url\u001b[0m\u001b[0;34m)\u001b[0m\u001b[0;34m)\u001b[0m\u001b[0;34m\u001b[0m\u001b[0;34m\u001b[0m\u001b[0m\n\u001b[1;32m    436\u001b[0m \u001b[0;34m\u001b[0m\u001b[0m\n\u001b[0;32m--> 437\u001b[0;31m         \u001b[0mcode\u001b[0m \u001b[0;34m=\u001b[0m \u001b[0minput\u001b[0m\u001b[0;34m(\u001b[0m\u001b[0mauthorization_code_message\u001b[0m\u001b[0;34m)\u001b[0m\u001b[0;34m\u001b[0m\u001b[0;34m\u001b[0m\u001b[0m\n\u001b[0m\u001b[1;32m    438\u001b[0m \u001b[0;34m\u001b[0m\u001b[0m\n\u001b[1;32m    439\u001b[0m         \u001b[0mself\u001b[0m\u001b[0;34m.\u001b[0m\u001b[0mfetch_token\u001b[0m\u001b[0;34m(\u001b[0m\u001b[0mcode\u001b[0m\u001b[0;34m=\u001b[0m\u001b[0mcode\u001b[0m\u001b[0;34m)\u001b[0m\u001b[0;34m\u001b[0m\u001b[0;34m\u001b[0m\u001b[0m\n",
      "\u001b[0;32m~/opt/anaconda3/lib/python3.9/site-packages/ipykernel/kernelbase.py\u001b[0m in \u001b[0;36mraw_input\u001b[0;34m(self, prompt)\u001b[0m\n\u001b[1;32m   1004\u001b[0m                 \u001b[0;34m\"raw_input was called, but this frontend does not support input requests.\"\u001b[0m\u001b[0;34m\u001b[0m\u001b[0;34m\u001b[0m\u001b[0m\n\u001b[1;32m   1005\u001b[0m             )\n\u001b[0;32m-> 1006\u001b[0;31m         return self._input_request(\n\u001b[0m\u001b[1;32m   1007\u001b[0m             \u001b[0mstr\u001b[0m\u001b[0;34m(\u001b[0m\u001b[0mprompt\u001b[0m\u001b[0;34m)\u001b[0m\u001b[0;34m,\u001b[0m\u001b[0;34m\u001b[0m\u001b[0;34m\u001b[0m\u001b[0m\n\u001b[1;32m   1008\u001b[0m             \u001b[0mself\u001b[0m\u001b[0;34m.\u001b[0m\u001b[0m_parent_ident\u001b[0m\u001b[0;34m[\u001b[0m\u001b[0;34m\"shell\"\u001b[0m\u001b[0;34m]\u001b[0m\u001b[0;34m,\u001b[0m\u001b[0;34m\u001b[0m\u001b[0;34m\u001b[0m\u001b[0m\n",
      "\u001b[0;32m~/opt/anaconda3/lib/python3.9/site-packages/ipykernel/kernelbase.py\u001b[0m in \u001b[0;36m_input_request\u001b[0;34m(self, prompt, ident, parent, password)\u001b[0m\n\u001b[1;32m   1049\u001b[0m             \u001b[0;32mexcept\u001b[0m \u001b[0mKeyboardInterrupt\u001b[0m\u001b[0;34m:\u001b[0m\u001b[0;34m\u001b[0m\u001b[0;34m\u001b[0m\u001b[0m\n\u001b[1;32m   1050\u001b[0m                 \u001b[0;31m# re-raise KeyboardInterrupt, to truncate traceback\u001b[0m\u001b[0;34m\u001b[0m\u001b[0;34m\u001b[0m\u001b[0m\n\u001b[0;32m-> 1051\u001b[0;31m                 \u001b[0;32mraise\u001b[0m \u001b[0mKeyboardInterrupt\u001b[0m\u001b[0;34m(\u001b[0m\u001b[0;34m\"Interrupted by user\"\u001b[0m\u001b[0;34m)\u001b[0m \u001b[0;32mfrom\u001b[0m \u001b[0;32mNone\u001b[0m\u001b[0;34m\u001b[0m\u001b[0;34m\u001b[0m\u001b[0m\n\u001b[0m\u001b[1;32m   1052\u001b[0m             \u001b[0;32mexcept\u001b[0m \u001b[0mException\u001b[0m\u001b[0;34m:\u001b[0m\u001b[0;34m\u001b[0m\u001b[0;34m\u001b[0m\u001b[0m\n\u001b[1;32m   1053\u001b[0m                 \u001b[0mself\u001b[0m\u001b[0;34m.\u001b[0m\u001b[0mlog\u001b[0m\u001b[0;34m.\u001b[0m\u001b[0mwarning\u001b[0m\u001b[0;34m(\u001b[0m\u001b[0;34m\"Invalid Message:\"\u001b[0m\u001b[0;34m,\u001b[0m \u001b[0mexc_info\u001b[0m\u001b[0;34m=\u001b[0m\u001b[0;32mTrue\u001b[0m\u001b[0;34m)\u001b[0m\u001b[0;34m\u001b[0m\u001b[0;34m\u001b[0m\u001b[0m\n",
      "\u001b[0;31mKeyboardInterrupt\u001b[0m: Interrupted by user"
     ]
    }
   ],
   "source": [
    "scopes = ['https://www.googleapis.com/auth/calendar']\n",
    "flow = InstalledAppFlow.from_client_secrets_file(\"client_secret.json\", scopes=scopes)\n",
    "credentials = flow.run_console()"
   ]
  },
  {
   "cell_type": "code",
   "execution_count": null,
   "id": "79065d10",
   "metadata": {},
   "outputs": [],
   "source": [
    "pickle.dump(credentials, open(\"token.pkl\", \"wb\"))\n",
    "credentials = pickle.load(open(\"token.pkl\", \"rb\"))\n",
    "service = build(\"calendar\", \"v3\", credentials=credentials)"
   ]
  },
  {
   "cell_type": "markdown",
   "id": "39811b13",
   "metadata": {},
   "source": [
    "## Defining a function that creates events"
   ]
  },
  {
   "cell_type": "code",
   "execution_count": null,
   "id": "63188bc1",
   "metadata": {},
   "outputs": [],
   "source": [
    "def create_event(start_time_format, end_time_format, summary, description, location):\n",
    "    event = {\n",
    "        'summary': summary,\n",
    "        'location': location,\n",
    "        'description': description,\n",
    "        'start': {\n",
    "            'dateTime': start_time_format,\n",
    "            'timeZone': 'Europe/Moscow',\n",
    "        },\n",
    "        'end': {\n",
    "            'dateTime': end_time_format,\n",
    "            'timeZone': 'Europe/Moscow',\n",
    "        },\n",
    "        'reminders': {\n",
    "            'useDefault': False,\n",
    "            'overrides': [\n",
    "                {'method': 'popup', 'minutes': 10},\n",
    "            ],\n",
    "        },\n",
    "    }\n",
    "    return service.events().insert(calendarId='tot3a4vhmmo3jup9rbko7aqqas@group.calendar.google.com', body=event).execute()"
   ]
  },
  {
   "cell_type": "code",
   "execution_count": null,
   "id": "b6bc3eb6",
   "metadata": {},
   "outputs": [],
   "source": [
    "\"\"\" Listing all existing calendars \"\"\"\n",
    "result = service.calendarList().list().execute()"
   ]
  },
  {
   "cell_type": "code",
   "execution_count": null,
   "id": "757dbd06",
   "metadata": {},
   "outputs": [],
   "source": [
    "result['items'][5]"
   ]
  },
  {
   "cell_type": "code",
   "execution_count": null,
   "id": "78c21138",
   "metadata": {
    "scrolled": false
   },
   "outputs": [],
   "source": [
    "print(imported_data)"
   ]
  },
  {
   "cell_type": "code",
   "execution_count": null,
   "id": "41a7c2b1",
   "metadata": {},
   "outputs": [],
   "source": [
    "locale.setlocale(locale.LC_TIME, \"ru_RU.UTF-8\")"
   ]
  },
  {
   "cell_type": "code",
   "execution_count": null,
   "id": "4d266d55",
   "metadata": {
    "scrolled": true
   },
   "outputs": [],
   "source": [
    "lesson_day = 0\n",
    "while lesson_day < len(imported_data):\n",
    "    lesson_id = 1 # Not 0 to avoid copying a date\n",
    "    if imported_data[lesson_day][0] != \"None\":\n",
    "        while lesson_id <= len(imported_data[lesson_day])-1:\n",
    "            print(lesson_day, lesson_id)\n",
    "            d = imported_data[lesson_day][0] # Retrieving date and lesson start time and formatting it\n",
    "            t_start = imported_data[lesson_day][lesson_id][0][0:2]+\" \"+imported_data[lesson_day][lesson_id][0][3:5]\n",
    "            t_end = imported_data[lesson_day][lesson_id][0][6:8]+\" \"+imported_data[lesson_day][lesson_id][0][9:]\n",
    "            start_time = datetime.datetime.strptime(d+\" \"+t_start, \"%d-%b. %H %M\")\n",
    "            start_time = start_time.replace(year=2022)\n",
    "            start_time_format = start_time.strftime(\"%Y-%m-%dT%H:%M:%S\")\n",
    "            end_time = datetime.datetime.strptime(d+\" \"+t_end, \"%d-%b. %H %M\")\n",
    "            end_time = end_time.replace(year=2022)\n",
    "            end_time_format = end_time.strftime(\"%Y-%m-%dT%H:%M:%S\")\n",
    "\n",
    "            summary = imported_data[lesson_day][lesson_id][1] # Retrieving lesson name\n",
    "\n",
    "            description = imported_data[lesson_day][lesson_id][2] # Retrieving professor name\n",
    "            if summary == \"Физическая культура и спорт \":\n",
    "                location = \"Волейбольный зал\"\n",
    "            elif summary == \"Business English\":\n",
    "                location = \"Дистанционно\"\n",
    "            elif summary == \"Испанский язык\":\n",
    "                location = \"Дистанционно\"\n",
    "            else:\n",
    "                location = imported_data[lesson_day][lesson_id][3] #  Retrieving location\n",
    "            create_event(start_time_format, end_time_format, summary, description, location) #  Creating event in the calendar\n",
    "            lesson_id = lesson_id + 1\n",
    "        else:\n",
    "            lesson_day = lesson_day + 1\n",
    "    else:\n",
    "        lesson_day = lesson_day + 1\n",
    "# start_time_format, end_time_format, summary, description, location"
   ]
  },
  {
   "cell_type": "code",
   "execution_count": null,
   "id": "8b189fe4",
   "metadata": {},
   "outputs": [],
   "source": [
    "listor = service.events().list(calendarId=\"tot3a4vhmmo3jup9rbko7aqqas@group.calendar.google.com\", orderBy=\"updated\").execute()\n",
    "listor"
   ]
  },
  {
   "cell_type": "code",
   "execution_count": null,
   "id": "e0029615",
   "metadata": {},
   "outputs": [],
   "source": [
    "len(imported_data)"
   ]
  },
  {
   "cell_type": "code",
   "execution_count": null,
   "id": "8a7c0900",
   "metadata": {},
   "outputs": [],
   "source": []
  }
 ],
 "metadata": {
  "kernelspec": {
   "display_name": "Python 3 (ipykernel)",
   "language": "python",
   "name": "python3"
  },
  "language_info": {
   "codemirror_mode": {
    "name": "ipython",
    "version": 3
   },
   "file_extension": ".py",
   "mimetype": "text/x-python",
   "name": "python",
   "nbconvert_exporter": "python",
   "pygments_lexer": "ipython3",
   "version": "3.9.7"
  }
 },
 "nbformat": 4,
 "nbformat_minor": 5
}
